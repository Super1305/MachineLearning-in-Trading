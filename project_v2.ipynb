{
 "cells": [
  {
   "cell_type": "markdown",
   "id": "b80053ff-240d-480d-8f20-8c296c5f14a5",
   "metadata": {},
   "source": [
    "# <center>Дипломная работа</center>"
   ]
  },
  {
   "cell_type": "markdown",
   "id": "7a62ba5d-bf79-49f5-be66-503ce56768c0",
   "metadata": {},
   "source": [
    "## <center>\"Построение и оптимизация различных моделей Машинного Обучения для прибыльной торговли финансовыми инструментами на биржах\"</center>"
   ]
  },
  {
   "cell_type": "markdown",
   "id": "c31a7db2-1a4b-462a-8804-1a07b7d9fcde",
   "metadata": {},
   "source": [
    "### Содержание:  \n",
    "1. Использование API для загрузки данных.\n",
    "2. Постановка задачи, включая перевод задачи регрессии в задачу классификации и EDA.\n",
    "3. Определение baseline на основе только стандартных данных о курсе акций и нескольких методов классического машинного обучения.\n",
    "4. Тестирование применения классических торговых индикаторов с оценкой результатов по отношению к baseline.\n",
    "5. Оптимизация параметров.\n",
    "6. Проверка лучших моделей и подхода на других инструментах бирж.\n",
    "7. Выводы.  \n",
    "8. *** Применение нейронных сетей и сравнение результатов с результатами классических методов машинного обучения (задача максимум)."
   ]
  },
  {
   "cell_type": "code",
   "execution_count": 5,
   "id": "b71b820b-890b-48a3-828b-4a9eded6d9f1",
   "metadata": {},
   "outputs": [],
   "source": [
    "import pandas as pd\n",
    "import requests\n",
    "from datetime import datetime\n",
    "from tqdm import tqdm"
   ]
  },
  {
   "cell_type": "code",
   "execution_count": 6,
   "id": "5712c0c4-3cab-4a41-9298-d41ae7ada2e6",
   "metadata": {},
   "outputs": [],
   "source": [
    "import matplotlib.pyplot as plt\n",
    "import seaborn as sns\n",
    "%matplotlib inline"
   ]
  },
  {
   "cell_type": "markdown",
   "id": "202b5682-90ac-4142-831c-6dbb11e711ea",
   "metadata": {},
   "source": [
    "### 1. Использование API для загрузки данных."
   ]
  },
  {
   "cell_type": "code",
   "execution_count": 8,
   "id": "d9281745-f036-42e0-ad26-a22fd07c3664",
   "metadata": {},
   "outputs": [],
   "source": [
    "# Тикер акции и период торговли в минутах \n",
    "ticker = 'SBER'\n",
    "interval = 60\n",
    "\n",
    "# Даты и время начала и конца периода в требуемом для API формате\n",
    "start_date = '2011-11-17 10:00:00'\n",
    "end_date = '2024-10-04 23:00:00'\n",
    "\n",
    "# вспомогательный перевод данных\n",
    "end_date_datetime = datetime.strptime(end_date, '%Y-%m-%d %H:%M:%S')"
   ]
  },
  {
   "cell_type": "code",
   "execution_count": 9,
   "id": "9a65d40c-e815-4916-bcfb-0ff39e86bc6f",
   "metadata": {},
   "outputs": [],
   "source": [
    "# загрузка данных из API Московской биржи\n",
    "def download_prices(ticker, interval, start_date, end_date):\n",
    "    url = f'https://iss.moex.com/iss/engines\\\n",
    "/stock/markets/shares/securities/{ticker}/candles.json?interval={interval}\\\n",
    "&from={start_date}&till={end_date}'\n",
    "\n",
    "    # Выполнение GET-запроса\n",
    "    response = requests.get(url)\n",
    "    \n",
    "    # Проверка успешности запроса\n",
    "    if response.status_code == 200:\n",
    "        data = response.json()\n",
    "\n",
    "        columns = data['candles']['columns']\n",
    "        records = data['candles']['data']\n",
    "        \n",
    "        df = pd.DataFrame(records, columns=columns)\n",
    "        df['begin'] = pd.to_datetime(df['begin'])\n",
    "        df['end'] = pd.to_datetime(df['end'])\n",
    "    \n",
    "    else:\n",
    "        print(f\"Ошибка при получении данных: {response.status_code}\")\n",
    "    return df"
   ]
  },
  {
   "cell_type": "code",
   "execution_count": 10,
   "id": "f500c42b-28cc-41d4-8ee1-ac76bf1492a7",
   "metadata": {},
   "outputs": [],
   "source": [
    "# начальная загрузка истории акции\n",
    "df = download_prices(ticker, interval, start_date, end_date)"
   ]
  },
  {
   "cell_type": "markdown",
   "id": "1c1b0fd1-3cec-4d59-a746-706dbfada8ad",
   "metadata": {},
   "source": [
    "### Особенность API: выгрузка по 500 записей! Поэтому далее выгружаем по 500 записей и конкатенируем датафреймы"
   ]
  },
  {
   "cell_type": "code",
   "execution_count": 12,
   "id": "8ad69a88-2af3-479e-9c39-245a4e9d5d22",
   "metadata": {},
   "outputs": [],
   "source": [
    "while df.end.max() < end_date_datetime:\n",
    "    df = pd.concat([df, download_prices(ticker, interval, df.begin.max(), end_date)], axis = 0) "
   ]
  },
  {
   "cell_type": "code",
   "execution_count": 13,
   "id": "f6bc408c-cce2-4f6c-b621-0671a36bec54",
   "metadata": {},
   "outputs": [],
   "source": [
    "# Поскольку последняя запись предыдущего и первая получаемых датафреймов одинаковые, то удаляем дубликаты\n",
    "df.drop_duplicates(inplace = True)\n",
    "df.reset_index(drop = True, inplace = True)"
   ]
  },
  {
   "cell_type": "code",
   "execution_count": 14,
   "id": "716dac31-c58d-451e-ab36-61234daf0ae5",
   "metadata": {},
   "outputs": [
    {
     "name": "stdout",
     "output_type": "stream",
     "text": [
      "<class 'pandas.core.frame.DataFrame'>\n",
      "RangeIndex: 36371 entries, 0 to 36370\n",
      "Data columns (total 8 columns):\n",
      " #   Column  Non-Null Count  Dtype         \n",
      "---  ------  --------------  -----         \n",
      " 0   open    36371 non-null  float64       \n",
      " 1   close   36371 non-null  float64       \n",
      " 2   high    36371 non-null  float64       \n",
      " 3   low     36371 non-null  float64       \n",
      " 4   value   36371 non-null  float64       \n",
      " 5   volume  36371 non-null  int64         \n",
      " 6   begin   36371 non-null  datetime64[ns]\n",
      " 7   end     36371 non-null  datetime64[ns]\n",
      "dtypes: datetime64[ns](2), float64(5), int64(1)\n",
      "memory usage: 2.2 MB\n"
     ]
    }
   ],
   "source": [
    "df.info()"
   ]
  },
  {
   "cell_type": "markdown",
   "id": "53ecb53a-1bd9-49f2-9905-198cd2ccb4ae",
   "metadata": {},
   "source": [
    "#### Данные включают:  \n",
    "* open - стоимость инструмента в начале часа\n",
    "* close - стоимость по окончанию часа\n",
    "* high - максимальную цену в течение часа\n",
    "* low - минимальную цену в течение часа\n",
    "* value - общую стоимость оборота продаж в течение часа\n",
    "* volume - общее кол-во проданных и купленных штук\n",
    "* begin - время начала часа\n",
    "* end - время окончания часа"
   ]
  },
  {
   "cell_type": "code",
   "execution_count": 16,
   "id": "3d8f412c-3af7-44bb-adf9-ac3dc70e5f13",
   "metadata": {},
   "outputs": [],
   "source": [
    "# Удаляем одну колонку с временем как излишнюю, но и вторая колонка со временем не понадобится :-) с учётом предлагаемого подхода (смотрим дальше)\n",
    "df.drop('end', axis = 1, inplace = True)"
   ]
  },
  {
   "cell_type": "code",
   "execution_count": 17,
   "id": "f68d9c10-44f8-40ed-a5e0-771101c7d8c5",
   "metadata": {},
   "outputs": [
    {
     "data": {
      "text/html": [
       "<div>\n",
       "<style scoped>\n",
       "    .dataframe tbody tr th:only-of-type {\n",
       "        vertical-align: middle;\n",
       "    }\n",
       "\n",
       "    .dataframe tbody tr th {\n",
       "        vertical-align: top;\n",
       "    }\n",
       "\n",
       "    .dataframe thead th {\n",
       "        text-align: right;\n",
       "    }\n",
       "</style>\n",
       "<table border=\"1\" class=\"dataframe\">\n",
       "  <thead>\n",
       "    <tr style=\"text-align: right;\">\n",
       "      <th></th>\n",
       "      <th>open</th>\n",
       "      <th>close</th>\n",
       "      <th>high</th>\n",
       "      <th>low</th>\n",
       "      <th>value</th>\n",
       "      <th>volume</th>\n",
       "      <th>begin</th>\n",
       "    </tr>\n",
       "  </thead>\n",
       "  <tbody>\n",
       "    <tr>\n",
       "      <th>0</th>\n",
       "      <td>79.70</td>\n",
       "      <td>80.10</td>\n",
       "      <td>80.20</td>\n",
       "      <td>79.25</td>\n",
       "      <td>1.967789e+09</td>\n",
       "      <td>24613260</td>\n",
       "      <td>2011-11-17 10:00:00</td>\n",
       "    </tr>\n",
       "    <tr>\n",
       "      <th>1</th>\n",
       "      <td>80.10</td>\n",
       "      <td>79.84</td>\n",
       "      <td>80.40</td>\n",
       "      <td>79.63</td>\n",
       "      <td>2.103682e+09</td>\n",
       "      <td>26275650</td>\n",
       "      <td>2011-11-17 11:00:00</td>\n",
       "    </tr>\n",
       "    <tr>\n",
       "      <th>2</th>\n",
       "      <td>79.84</td>\n",
       "      <td>79.56</td>\n",
       "      <td>79.91</td>\n",
       "      <td>79.03</td>\n",
       "      <td>3.646895e+09</td>\n",
       "      <td>45889170</td>\n",
       "      <td>2011-11-17 12:00:00</td>\n",
       "    </tr>\n",
       "    <tr>\n",
       "      <th>3</th>\n",
       "      <td>79.53</td>\n",
       "      <td>79.13</td>\n",
       "      <td>79.85</td>\n",
       "      <td>78.85</td>\n",
       "      <td>2.418619e+09</td>\n",
       "      <td>30484210</td>\n",
       "      <td>2011-11-17 13:00:00</td>\n",
       "    </tr>\n",
       "    <tr>\n",
       "      <th>4</th>\n",
       "      <td>79.13</td>\n",
       "      <td>78.81</td>\n",
       "      <td>79.25</td>\n",
       "      <td>78.00</td>\n",
       "      <td>3.812349e+09</td>\n",
       "      <td>48524350</td>\n",
       "      <td>2011-11-17 14:00:00</td>\n",
       "    </tr>\n",
       "  </tbody>\n",
       "</table>\n",
       "</div>"
      ],
      "text/plain": [
       "    open  close   high    low         value    volume               begin\n",
       "0  79.70  80.10  80.20  79.25  1.967789e+09  24613260 2011-11-17 10:00:00\n",
       "1  80.10  79.84  80.40  79.63  2.103682e+09  26275650 2011-11-17 11:00:00\n",
       "2  79.84  79.56  79.91  79.03  3.646895e+09  45889170 2011-11-17 12:00:00\n",
       "3  79.53  79.13  79.85  78.85  2.418619e+09  30484210 2011-11-17 13:00:00\n",
       "4  79.13  78.81  79.25  78.00  3.812349e+09  48524350 2011-11-17 14:00:00"
      ]
     },
     "execution_count": 17,
     "metadata": {},
     "output_type": "execute_result"
    }
   ],
   "source": [
    "df.head()"
   ]
  },
  {
   "cell_type": "code",
   "execution_count": 18,
   "id": "524e7df0-b482-4e1f-9b6f-45846703bbee",
   "metadata": {},
   "outputs": [
    {
     "name": "stdout",
     "output_type": "stream",
     "text": [
      "<class 'pandas.core.frame.DataFrame'>\n",
      "RangeIndex: 36371 entries, 0 to 36370\n",
      "Data columns (total 7 columns):\n",
      " #   Column  Non-Null Count  Dtype         \n",
      "---  ------  --------------  -----         \n",
      " 0   open    36371 non-null  float64       \n",
      " 1   close   36371 non-null  float64       \n",
      " 2   high    36371 non-null  float64       \n",
      " 3   low     36371 non-null  float64       \n",
      " 4   value   36371 non-null  float64       \n",
      " 5   volume  36371 non-null  int64         \n",
      " 6   begin   36371 non-null  datetime64[ns]\n",
      "dtypes: datetime64[ns](1), float64(5), int64(1)\n",
      "memory usage: 1.9 MB\n"
     ]
    }
   ],
   "source": [
    "df.info()"
   ]
  },
  {
   "cell_type": "code",
   "execution_count": 19,
   "id": "1572d77b-d309-416a-aabe-25f6b06a74cd",
   "metadata": {},
   "outputs": [
    {
     "data": {
      "image/png": "[encoded data removed]",
      "text/plain": [
       "<Figure size 640x480 with 1 Axes>"
      ]
     },
     "metadata": {},
     "output_type": "display_data"
    }
   ],
   "source": [
    "plt.plot(df.begin, df.close)\n",
    "plt.show()"
   ]
  },
  {
   "cell_type": "markdown",
   "id": "2849b289-ea42-4f54-9781-34fc22f70738",
   "metadata": {},
   "source": [
    "### 2. Постановка задачи, включая перевод задачи регрессии в задачу классификации и EDA."
   ]
  },
  {
   "cell_type": "markdown",
   "id": "9fae1c1e-dc40-4f78-88f5-b5b7dd0769b3",
   "metadata": {},
   "source": [
    "#### В трейдинге критичным для успеха в торговле и самым сложным являются:  \n",
    "* выбор момента входа в сделку (покупка или продажа актива),\n",
    "* выбор момент выхода из сделки (фиксирование прибыли или незначительного убытка при выставлении stop loss).\n",
    "\n",
    "**Прибыльность торговой стратегии определяется формулой:**  \n",
    "Вероятность прибыльной сделки * Размер прибыли - Вероятность убыточной сделки * Размер убытка  \n",
    "\n",
    "Поэтому важно, чтобы:  \n",
    "* в момент входа в сделку вероятность прибыльности сделки была выше вероятности убыточной сделки\n",
    "* размер прибыли от каждой сделки был, по крайней мере, не ниже размера убытка."
   ]
  },
  {
   "cell_type": "markdown",
   "id": "391234ed-bff3-468f-9ad6-e6432525fe63",
   "metadata": {},
   "source": [
    "### Постановка задачи:  \n",
    "* При помощи методов машинного обучения построить модели, когда вероятность прибыли при входе в сделку будет выше чем вероятность убытка.\n",
    "* Для упрощения задачи расстояния между входом в сделку и выходом из неё (размер прибыли или убытка) считаем одинаковыми."
   ]
  },
  {
   "cell_type": "markdown",
   "id": "f43d89e3-eace-4ade-a46e-c47b0ec7e2e2",
   "metadata": {},
   "source": [
    "### Предлагаемый метод решения:  \n",
    "* Свести задачу регрессии к задаче классификации, когда на исторических данных будут заранее рассчитаны классы:\n",
    "  - Рост стоимости инструмента на определённый процент,\n",
    "  - Падение стоимости инструмента на опреелённый процент.\n",
    "* Фактом преодоления расстояния от цены покупки акции до достижения определённого расстояния будет достижение стоимостью инструмента рассчитанной заранее цены:\n",
    "  - Стоимость покупки + X% (класс со значением 1) или\n",
    "  - Стоимость покупки - X%т (класс со значением 0)"
   ]
  },
  {
   "cell_type": "code",
   "execution_count": 24,
   "id": "7d382568-a49d-4aa5-ae21-21681c83b56c",
   "metadata": {},
   "outputs": [],
   "source": [
    "# Выбор процента роста или падения стоимости для идентификации классов\n",
    "delta = 0.05\n",
    "delta_max = 1 + delta\n",
    "delta_min = 1 - delta"
   ]
  },
  {
   "cell_type": "code",
   "execution_count": 25,
   "id": "5b474bb0-3c04-4fd8-86e8-5f7df2ca2c04",
   "metadata": {},
   "outputs": [],
   "source": [
    "n_iter = df.shape[0]\n",
    "\n",
    "# добавляем колонку со значениями классов и предварительно их размечаем как -1, которое будет заменяться на 1 и 0 при последубщих расчётах\n",
    "df['result'] = -1 "
   ]
  },
  {
   "cell_type": "code",
   "execution_count": 26,
   "id": "0cc86a51-167e-4768-97a3-38c1f6e3ab20",
   "metadata": {},
   "outputs": [
    {
     "name": "stderr",
     "output_type": "stream",
     "text": [
      "100%|██████████| 36371/36371 [01:39<00:00, 364.78it/s] \n"
     ]
    }
   ],
   "source": [
    "# Расчёт достигала ли стоимость инструмента стоимости равной стоимости покупки на каждом часе +/- delta% и присвоение значений классов 1 или 0\n",
    "for i in tqdm(range(0, n_iter)):\n",
    "    price_close = df.iloc[i].close\n",
    "    price_max = round(price_close*delta_max,2)\n",
    "    price_min = round(price_close*delta_min,2)\n",
    "    j = i\n",
    "    while price_close > price_min and price_close < price_max and j < n_iter:\n",
    "        if df.loc[j, 'low'] < price_min:\n",
    "            price_close = df.loc[j, 'low']\n",
    "            df.loc[i, 'result'] = 0\n",
    "        elif df.loc[j, 'high'] > price_max:\n",
    "            price_close = df.loc[j, 'high']\n",
    "            df.loc[i, 'result'] = 1\n",
    "        else:\n",
    "            j+=1"
   ]
  },
  {
   "cell_type": "code",
   "execution_count": 27,
   "id": "e1fd8cc7-c52c-4daa-a8cd-b111b049a468",
   "metadata": {},
   "outputs": [
    {
     "data": {
      "text/html": [
       "<div>\n",
       "<style scoped>\n",
       "    .dataframe tbody tr th:only-of-type {\n",
       "        vertical-align: middle;\n",
       "    }\n",
       "\n",
       "    .dataframe tbody tr th {\n",
       "        vertical-align: top;\n",
       "    }\n",
       "\n",
       "    .dataframe thead th {\n",
       "        text-align: right;\n",
       "    }\n",
       "</style>\n",
       "<table border=\"1\" class=\"dataframe\">\n",
       "  <thead>\n",
       "    <tr style=\"text-align: right;\">\n",
       "      <th></th>\n",
       "      <th>open</th>\n",
       "      <th>close</th>\n",
       "      <th>high</th>\n",
       "      <th>low</th>\n",
       "      <th>value</th>\n",
       "      <th>volume</th>\n",
       "      <th>begin</th>\n",
       "      <th>result</th>\n",
       "    </tr>\n",
       "  </thead>\n",
       "  <tbody>\n",
       "    <tr>\n",
       "      <th>0</th>\n",
       "      <td>79.70</td>\n",
       "      <td>80.10</td>\n",
       "      <td>80.20</td>\n",
       "      <td>79.25</td>\n",
       "      <td>1.967789e+09</td>\n",
       "      <td>24613260</td>\n",
       "      <td>2011-11-17 10:00:00</td>\n",
       "      <td>0</td>\n",
       "    </tr>\n",
       "    <tr>\n",
       "      <th>1</th>\n",
       "      <td>80.10</td>\n",
       "      <td>79.84</td>\n",
       "      <td>80.40</td>\n",
       "      <td>79.63</td>\n",
       "      <td>2.103682e+09</td>\n",
       "      <td>26275650</td>\n",
       "      <td>2011-11-17 11:00:00</td>\n",
       "      <td>0</td>\n",
       "    </tr>\n",
       "    <tr>\n",
       "      <th>2</th>\n",
       "      <td>79.84</td>\n",
       "      <td>79.56</td>\n",
       "      <td>79.91</td>\n",
       "      <td>79.03</td>\n",
       "      <td>3.646895e+09</td>\n",
       "      <td>45889170</td>\n",
       "      <td>2011-11-17 12:00:00</td>\n",
       "      <td>0</td>\n",
       "    </tr>\n",
       "    <tr>\n",
       "      <th>3</th>\n",
       "      <td>79.53</td>\n",
       "      <td>79.13</td>\n",
       "      <td>79.85</td>\n",
       "      <td>78.85</td>\n",
       "      <td>2.418619e+09</td>\n",
       "      <td>30484210</td>\n",
       "      <td>2011-11-17 13:00:00</td>\n",
       "      <td>0</td>\n",
       "    </tr>\n",
       "    <tr>\n",
       "      <th>4</th>\n",
       "      <td>79.13</td>\n",
       "      <td>78.81</td>\n",
       "      <td>79.25</td>\n",
       "      <td>78.00</td>\n",
       "      <td>3.812349e+09</td>\n",
       "      <td>48524350</td>\n",
       "      <td>2011-11-17 14:00:00</td>\n",
       "      <td>0</td>\n",
       "    </tr>\n",
       "  </tbody>\n",
       "</table>\n",
       "</div>"
      ],
      "text/plain": [
       "    open  close   high    low         value    volume               begin  \\\n",
       "0  79.70  80.10  80.20  79.25  1.967789e+09  24613260 2011-11-17 10:00:00   \n",
       "1  80.10  79.84  80.40  79.63  2.103682e+09  26275650 2011-11-17 11:00:00   \n",
       "2  79.84  79.56  79.91  79.03  3.646895e+09  45889170 2011-11-17 12:00:00   \n",
       "3  79.53  79.13  79.85  78.85  2.418619e+09  30484210 2011-11-17 13:00:00   \n",
       "4  79.13  78.81  79.25  78.00  3.812349e+09  48524350 2011-11-17 14:00:00   \n",
       "\n",
       "   result  \n",
       "0       0  \n",
       "1       0  \n",
       "2       0  \n",
       "3       0  \n",
       "4       0  "
      ]
     },
     "execution_count": 27,
     "metadata": {},
     "output_type": "execute_result"
    }
   ],
   "source": [
    "df.head()"
   ]
  },
  {
   "cell_type": "code",
   "execution_count": 28,
   "id": "5af10406-c043-474a-bee9-7d7f12d78cfc",
   "metadata": {},
   "outputs": [
    {
     "data": {
      "text/plain": [
       "result\n",
       " 1    20677\n",
       " 0    15502\n",
       "-1      192\n",
       "Name: count, dtype: int64"
      ]
     },
     "execution_count": 28,
     "metadata": {},
     "output_type": "execute_result"
    }
   ],
   "source": [
    "# проверка количества значений классов в колонке result:\n",
    "df['result'].value_counts()"
   ]
  },
  {
   "cell_type": "markdown",
   "id": "1d589911-37a4-4ee5-87d1-c7250d8a4d9f",
   "metadata": {},
   "source": [
    "### Выводы:  \n",
    "* Часть записей остались неразмеченными со значениями -1, что логично, поскольку в конце истории стоимость инструмента могла не успеть достичь рассчитанных уровней  \n",
    "* Классы оказались незначительно несбалансированными (20677 и 15502), что потребует дополнительной балансировки при обучении"
   ]
  },
  {
   "cell_type": "markdown",
   "id": "52e9257d-bfd4-4f76-8d99-9b3c0ea655d8",
   "metadata": {},
   "source": [
    "#### Чтобы убрать -1, просто разделим датафрейм на 2 датафрейма: \n",
    "- первый будет включать только записи до момента, когда появилось первое значение -1 и на нём будем проводить обучение,\n",
    "- второй, в котором могут быть как значения -1, так и 1 и 0. Этот датафрейм оставим для последующей валидации модели, когда накопятся новые значения инструмента."
   ]
  },
  {
   "cell_type": "code",
   "execution_count": 31,
   "id": "c9b73781-a49e-4532-a668-41c3b15b4860",
   "metadata": {},
   "outputs": [],
   "source": [
    "if not df[df['result']== -1].empty:\n",
    "    df_use = df[0:df[df['result']== -1].index[0]]\n",
    "    df_future_use = df[df[df['result']== -1].index[0]:]"
   ]
  },
  {
   "cell_type": "code",
   "execution_count": 32,
   "id": "1e150f2b-6220-4e5c-a48f-04d106965e32",
   "metadata": {},
   "outputs": [
    {
     "data": {
      "text/plain": [
       "result\n",
       "1    20624\n",
       "0    15451\n",
       "Name: count, dtype: int64"
      ]
     },
     "execution_count": 32,
     "metadata": {},
     "output_type": "execute_result"
    }
   ],
   "source": [
    "# проверка количества значений классов в исследуемом датафрейме в колонке result:\n",
    "df_use['result'].value_counts()"
   ]
  },
  {
   "cell_type": "code",
   "execution_count": 33,
   "id": "797ad14e-61e5-4858-ab1e-ee09e4b8a4d1",
   "metadata": {},
   "outputs": [
    {
     "data": {
      "text/plain": [
       "result\n",
       "-1    192\n",
       " 1     53\n",
       " 0     51\n",
       "Name: count, dtype: int64"
      ]
     },
     "execution_count": 33,
     "metadata": {},
     "output_type": "execute_result"
    }
   ],
   "source": [
    "# проверка количества значений классов в датафрейме для последующей валидации колонке result:\n",
    "df_future_use['result'].value_counts()"
   ]
  },
  {
   "cell_type": "code",
   "execution_count": 34,
   "id": "0a984e99-4009-42df-8176-c68963750762",
   "metadata": {},
   "outputs": [
    {
     "name": "stdout",
     "output_type": "stream",
     "text": [
      "<class 'pandas.core.frame.DataFrame'>\n",
      "RangeIndex: 36075 entries, 0 to 36074\n",
      "Data columns (total 8 columns):\n",
      " #   Column  Non-Null Count  Dtype         \n",
      "---  ------  --------------  -----         \n",
      " 0   open    36075 non-null  float64       \n",
      " 1   close   36075 non-null  float64       \n",
      " 2   high    36075 non-null  float64       \n",
      " 3   low     36075 non-null  float64       \n",
      " 4   value   36075 non-null  float64       \n",
      " 5   volume  36075 non-null  int64         \n",
      " 6   begin   36075 non-null  datetime64[ns]\n",
      " 7   result  36075 non-null  int64         \n",
      "dtypes: datetime64[ns](1), float64(5), int64(2)\n",
      "memory usage: 2.2 MB\n"
     ]
    }
   ],
   "source": [
    "df_use.info()"
   ]
  },
  {
   "cell_type": "markdown",
   "id": "89ece0f7-2177-4a34-939e-ee32929a2763",
   "metadata": {},
   "source": [
    "### 3. Определение baseline на основе только стандартных данных о курсе акций и нескольких методов классического машинного обучения."
   ]
  },
  {
   "cell_type": "code",
   "execution_count": 36,
   "id": "2c745b50-471c-4059-8450-c29d51d360b1",
   "metadata": {},
   "outputs": [],
   "source": [
    "from sklearn.linear_model import LogisticRegression\n",
    "from sklearn.pipeline import make_pipeline\n",
    "from sklearn.preprocessing import StandardScaler\n",
    "from sklearn.model_selection import train_test_split\n",
    "from sklearn.metrics import accuracy_score, classification_report\n",
    "from imblearn.over_sampling import SMOTE"
   ]
  },
  {
   "cell_type": "code",
   "execution_count": 37,
   "id": "d22a9c09-5477-4d2f-92b2-8e20e36bace4",
   "metadata": {},
   "outputs": [],
   "source": [
    "# Для этой задачи классификации колонка begin для оценки baseline не понадобится. Потом можно будет использовать эту колонку для добавления новых features.\n",
    "X = df_use.drop(['begin', 'result'], axis = 1)\n",
    "y = df_use.result"
   ]
  },
  {
   "cell_type": "code",
   "execution_count": 38,
   "id": "98cea8a2-e55d-477e-a96f-9a6acc120cc6",
   "metadata": {},
   "outputs": [],
   "source": [
    "X_train, X_test, y_train, y_test = train_test_split(X, y, test_size=0.2, random_state=42)"
   ]
  },
  {
   "cell_type": "code",
   "execution_count": 39,
   "id": "1922e275-3f04-46bf-ba1e-259c8aab727b",
   "metadata": {},
   "outputs": [],
   "source": [
    "# Нормализация данных\n",
    "scaler = StandardScaler()\n",
    "X_train_scaled = scaler.fit_transform(X_train)\n",
    "X_test_scaled = scaler.transform(X_test)"
   ]
  },
  {
   "cell_type": "code",
   "execution_count": 40,
   "id": "7c5fcad2-2b8c-4208-ab79-c7ff26c59d08",
   "metadata": {},
   "outputs": [],
   "source": [
    "# Обработка несбалансированных классов с помощью SMOTE\n",
    "smote = SMOTE(random_state=42)\n",
    "X_train_resampled, y_train_resampled = smote.fit_resample(X_train_scaled, y_train)"
   ]
  },
  {
   "cell_type": "markdown",
   "id": "b61d2fac-b2bb-4ecd-b844-c05d9c8695a0",
   "metadata": {},
   "source": [
    "#### Применяем Логистическую регрессию"
   ]
  },
  {
   "cell_type": "code",
   "execution_count": 42,
   "id": "9f2bada1-1c4c-4419-9109-9c4de7c62091",
   "metadata": {},
   "outputs": [],
   "source": [
    "lr = LogisticRegression(max_iter=2000)"
   ]
  },
  {
   "cell_type": "code",
   "execution_count": 43,
   "id": "ac3c92fa-3620-4534-95bc-dbedeab54f1d",
   "metadata": {},
   "outputs": [
    {
     "data": {
      "text/html": [
       "<style>#sk-container-id-1 {color: black;background-color: white;}#sk-container-id-1 pre{padding: 0;}#sk-container-id-1 div.sk-toggleable {background-color: white;}#sk-container-id-1 label.sk-toggleable__label {cursor: pointer;display: block;width: 100%;margin-bottom: 0;padding: 0.3em;box-sizing: border-box;text-align: center;}#sk-container-id-1 label.sk-toggleable__label-arrow:before {content: \"▸\";float: left;margin-right: 0.25em;color: #696969;}#sk-container-id-1 label.sk-toggleable__label-arrow:hover:before {color: black;}#sk-container-id-1 div.sk-estimator:hover label.sk-toggleable__label-arrow:before {color: black;}#sk-container-id-1 div.sk-toggleable__content {max-height: 0;max-width: 0;overflow: hidden;text-align: left;background-color: #f0f8ff;}#sk-container-id-1 div.sk-toggleable__content pre {margin: 0.2em;color: black;border-radius: 0.25em;background-color: #f0f8ff;}#sk-container-id-1 input.sk-toggleable__control:checked~div.sk-toggleable__content {max-height: 200px;max-width: 100%;overflow: auto;}#sk-container-id-1 input.sk-toggleable__control:checked~label.sk-toggleable__label-arrow:before {content: \"▾\";}#sk-container-id-1 div.sk-estimator input.sk-toggleable__control:checked~label.sk-toggleable__label {background-color: #d4ebff;}#sk-container-id-1 div.sk-label input.sk-toggleable__control:checked~label.sk-toggleable__label {background-color: #d4ebff;}#sk-container-id-1 input.sk-hidden--visually {border: 0;clip: rect(1px 1px 1px 1px);clip: rect(1px, 1px, 1px, 1px);height: 1px;margin: -1px;overflow: hidden;padding: 0;position: absolute;width: 1px;}#sk-container-id-1 div.sk-estimator {font-family: monospace;background-color: #f0f8ff;border: 1px dotted black;border-radius: 0.25em;box-sizing: border-box;margin-bottom: 0.5em;}#sk-container-id-1 div.sk-estimator:hover {background-color: #d4ebff;}#sk-container-id-1 div.sk-parallel-item::after {content: \"\";width: 100%;border-bottom: 1px solid gray;flex-grow: 1;}#sk-container-id-1 div.sk-label:hover label.sk-toggleable__label {background-color: #d4ebff;}#sk-container-id-1 div.sk-serial::before {content: \"\";position: absolute;border-left: 1px solid gray;box-sizing: border-box;top: 0;bottom: 0;left: 50%;z-index: 0;}#sk-container-id-1 div.sk-serial {display: flex;flex-direction: column;align-items: center;background-color: white;padding-right: 0.2em;padding-left: 0.2em;position: relative;}#sk-container-id-1 div.sk-item {position: relative;z-index: 1;}#sk-container-id-1 div.sk-parallel {display: flex;align-items: stretch;justify-content: center;background-color: white;position: relative;}#sk-container-id-1 div.sk-item::before, #sk-container-id-1 div.sk-parallel-item::before {content: \"\";position: absolute;border-left: 1px solid gray;box-sizing: border-box;top: 0;bottom: 0;left: 50%;z-index: -1;}#sk-container-id-1 div.sk-parallel-item {display: flex;flex-direction: column;z-index: 1;position: relative;background-color: white;}#sk-container-id-1 div.sk-parallel-item:first-child::after {align-self: flex-end;width: 50%;}#sk-container-id-1 div.sk-parallel-item:last-child::after {align-self: flex-start;width: 50%;}#sk-container-id-1 div.sk-parallel-item:only-child::after {width: 0;}#sk-container-id-1 div.sk-dashed-wrapped {border: 1px dashed gray;margin: 0 0.4em 0.5em 0.4em;box-sizing: border-box;padding-bottom: 0.4em;background-color: white;}#sk-container-id-1 div.sk-label label {font-family: monospace;font-weight: bold;display: inline-block;line-height: 1.2em;}#sk-container-id-1 div.sk-label-container {text-align: center;}#sk-container-id-1 div.sk-container {/* jupyter's `normalize.less` sets `[hidden] { display: none; }` but bootstrap.min.css set `[hidden] { display: none !important; }` so we also need the `!important` here to be able to override the default hidden behavior on the sphinx rendered scikit-learn.org. See: https://github.com/scikit-learn/scikit-learn/issues/21755 */display: inline-block !important;position: relative;}#sk-container-id-1 div.sk-text-repr-fallback {display: none;}</style><div id=\"sk-container-id-1\" class=\"sk-top-container\"><div class=\"sk-text-repr-fallback\"><pre>LogisticRegression(max_iter=2000)</pre><b>In a Jupyter environment, please rerun this cell to show the HTML representation or trust the notebook. <br />On GitHub, the HTML representation is unable to render, please try loading this page with nbviewer.org.</b></div><div class=\"sk-container\" hidden><div class=\"sk-item\"><div class=\"sk-estimator sk-toggleable\"><input class=\"sk-toggleable__control sk-hidden--visually\" id=\"sk-estimator-id-1\" type=\"checkbox\" checked><label for=\"sk-estimator-id-1\" class=\"sk-toggleable__label sk-toggleable__label-arrow\">LogisticRegression</label><div class=\"sk-toggleable__content\"><pre>LogisticRegression(max_iter=2000)</pre></div></div></div></div></div>"
      ],
      "text/plain": [
       "LogisticRegression(max_iter=2000)"
      ]
     },
     "execution_count": 43,
     "metadata": {},
     "output_type": "execute_result"
    }
   ],
   "source": [
    "lr.fit(X_train_resampled, y_train_resampled)"
   ]
  },
  {
   "cell_type": "code",
   "execution_count": 44,
   "id": "685a9675-ea28-4892-b45f-9ec0b04591ff",
   "metadata": {},
   "outputs": [
    {
     "data": {
      "text/plain": [
       "0.5479709267110842"
      ]
     },
     "execution_count": 44,
     "metadata": {},
     "output_type": "execute_result"
    }
   ],
   "source": [
    "lr.score(X_train_resampled, y_train_resampled)"
   ]
  },
  {
   "cell_type": "code",
   "execution_count": 45,
   "id": "5d4394ae-5e43-4d24-84ca-6a6830d49805",
   "metadata": {},
   "outputs": [
    {
     "data": {
      "text/plain": [
       "0.565072765072765"
      ]
     },
     "execution_count": 45,
     "metadata": {},
     "output_type": "execute_result"
    }
   ],
   "source": [
    "lr.score(X_test_scaled, y_test)"
   ]
  },
  {
   "cell_type": "code",
   "execution_count": 46,
   "id": "262d2a71-1749-4bc1-9fd8-318bd16b8a1c",
   "metadata": {},
   "outputs": [
    {
     "name": "stdout",
     "output_type": "stream",
     "text": [
      "Точность модели: 0.57\n",
      "              precision    recall  f1-score   support\n",
      "\n",
      "           0       0.49      0.46      0.48      3101\n",
      "           1       0.61      0.64      0.63      4114\n",
      "\n",
      "    accuracy                           0.57      7215\n",
      "   macro avg       0.55      0.55      0.55      7215\n",
      "weighted avg       0.56      0.57      0.56      7215\n",
      "\n"
     ]
    }
   ],
   "source": [
    "y_pred = lr.predict(X_test_scaled)\n",
    "\n",
    "# Оценка точности\n",
    "accuracy = accuracy_score(y_test, y_pred)\n",
    "print(f\"Точность модели: {accuracy:.2f}\")\n",
    "\n",
    "# Подробный отчет о классификации\n",
    "print(classification_report(y_test, y_pred))"
   ]
  },
  {
   "cell_type": "markdown",
   "id": "528d5cf4-3267-4b05-94ba-57f6d6423d20",
   "metadata": {},
   "source": [
    "#### Вывод: Модель лучше предсказывает рост, чем падение инструмента (возможно, чересчур позитивна :-))"
   ]
  },
  {
   "cell_type": "code",
   "execution_count": null,
   "id": "f27e9113-a24a-482e-bc0b-c25908cae916",
   "metadata": {},
   "outputs": [],
   "source": []
  },
  {
   "cell_type": "markdown",
   "id": "71e6c37f-2651-4a7f-ae94-19a715b2bba8",
   "metadata": {},
   "source": [
    "#### Применим Случайный Лес"
   ]
  },
  {
   "cell_type": "code",
   "execution_count": 49,
   "id": "475c37cf-3d50-4a12-b128-45d9e3b5ddc4",
   "metadata": {},
   "outputs": [],
   "source": [
    "from sklearn.ensemble import RandomForestClassifier"
   ]
  },
  {
   "cell_type": "code",
   "execution_count": 50,
   "id": "6637b34e-80f5-4c6f-9a16-9fe6a09c5411",
   "metadata": {},
   "outputs": [
    {
     "data": {
      "text/html": [
       "<style>#sk-container-id-2 {color: black;background-color: white;}#sk-container-id-2 pre{padding: 0;}#sk-container-id-2 div.sk-toggleable {background-color: white;}#sk-container-id-2 label.sk-toggleable__label {cursor: pointer;display: block;width: 100%;margin-bottom: 0;padding: 0.3em;box-sizing: border-box;text-align: center;}#sk-container-id-2 label.sk-toggleable__label-arrow:before {content: \"▸\";float: left;margin-right: 0.25em;color: #696969;}#sk-container-id-2 label.sk-toggleable__label-arrow:hover:before {color: black;}#sk-container-id-2 div.sk-estimator:hover label.sk-toggleable__label-arrow:before {color: black;}#sk-container-id-2 div.sk-toggleable__content {max-height: 0;max-width: 0;overflow: hidden;text-align: left;background-color: #f0f8ff;}#sk-container-id-2 div.sk-toggleable__content pre {margin: 0.2em;color: black;border-radius: 0.25em;background-color: #f0f8ff;}#sk-container-id-2 input.sk-toggleable__control:checked~div.sk-toggleable__content {max-height: 200px;max-width: 100%;overflow: auto;}#sk-container-id-2 input.sk-toggleable__control:checked~label.sk-toggleable__label-arrow:before {content: \"▾\";}#sk-container-id-2 div.sk-estimator input.sk-toggleable__control:checked~label.sk-toggleable__label {background-color: #d4ebff;}#sk-container-id-2 div.sk-label input.sk-toggleable__control:checked~label.sk-toggleable__label {background-color: #d4ebff;}#sk-container-id-2 input.sk-hidden--visually {border: 0;clip: rect(1px 1px 1px 1px);clip: rect(1px, 1px, 1px, 1px);height: 1px;margin: -1px;overflow: hidden;padding: 0;position: absolute;width: 1px;}#sk-container-id-2 div.sk-estimator {font-family: monospace;background-color: #f0f8ff;border: 1px dotted black;border-radius: 0.25em;box-sizing: border-box;margin-bottom: 0.5em;}#sk-container-id-2 div.sk-estimator:hover {background-color: #d4ebff;}#sk-container-id-2 div.sk-parallel-item::after {content: \"\";width: 100%;border-bottom: 1px solid gray;flex-grow: 1;}#sk-container-id-2 div.sk-label:hover label.sk-toggleable__label {background-color: #d4ebff;}#sk-container-id-2 div.sk-serial::before {content: \"\";position: absolute;border-left: 1px solid gray;box-sizing: border-box;top: 0;bottom: 0;left: 50%;z-index: 0;}#sk-container-id-2 div.sk-serial {display: flex;flex-direction: column;align-items: center;background-color: white;padding-right: 0.2em;padding-left: 0.2em;position: relative;}#sk-container-id-2 div.sk-item {position: relative;z-index: 1;}#sk-container-id-2 div.sk-parallel {display: flex;align-items: stretch;justify-content: center;background-color: white;position: relative;}#sk-container-id-2 div.sk-item::before, #sk-container-id-2 div.sk-parallel-item::before {content: \"\";position: absolute;border-left: 1px solid gray;box-sizing: border-box;top: 0;bottom: 0;left: 50%;z-index: -1;}#sk-container-id-2 div.sk-parallel-item {display: flex;flex-direction: column;z-index: 1;position: relative;background-color: white;}#sk-container-id-2 div.sk-parallel-item:first-child::after {align-self: flex-end;width: 50%;}#sk-container-id-2 div.sk-parallel-item:last-child::after {align-self: flex-start;width: 50%;}#sk-container-id-2 div.sk-parallel-item:only-child::after {width: 0;}#sk-container-id-2 div.sk-dashed-wrapped {border: 1px dashed gray;margin: 0 0.4em 0.5em 0.4em;box-sizing: border-box;padding-bottom: 0.4em;background-color: white;}#sk-container-id-2 div.sk-label label {font-family: monospace;font-weight: bold;display: inline-block;line-height: 1.2em;}#sk-container-id-2 div.sk-label-container {text-align: center;}#sk-container-id-2 div.sk-container {/* jupyter's `normalize.less` sets `[hidden] { display: none; }` but bootstrap.min.css set `[hidden] { display: none !important; }` so we also need the `!important` here to be able to override the default hidden behavior on the sphinx rendered scikit-learn.org. See: https://github.com/scikit-learn/scikit-learn/issues/21755 */display: inline-block !important;position: relative;}#sk-container-id-2 div.sk-text-repr-fallback {display: none;}</style><div id=\"sk-container-id-2\" class=\"sk-top-container\"><div class=\"sk-text-repr-fallback\"><pre>RandomForestClassifier(random_state=42)</pre><b>In a Jupyter environment, please rerun this cell to show the HTML representation or trust the notebook. <br />On GitHub, the HTML representation is unable to render, please try loading this page with nbviewer.org.</b></div><div class=\"sk-container\" hidden><div class=\"sk-item\"><div class=\"sk-estimator sk-toggleable\"><input class=\"sk-toggleable__control sk-hidden--visually\" id=\"sk-estimator-id-2\" type=\"checkbox\" checked><label for=\"sk-estimator-id-2\" class=\"sk-toggleable__label sk-toggleable__label-arrow\">RandomForestClassifier</label><div class=\"sk-toggleable__content\"><pre>RandomForestClassifier(random_state=42)</pre></div></div></div></div></div>"
      ],
      "text/plain": [
       "RandomForestClassifier(random_state=42)"
      ]
     },
     "execution_count": 50,
     "metadata": {},
     "output_type": "execute_result"
    }
   ],
   "source": [
    "# Инициализация и обучение модели Random Forest\n",
    "rf = RandomForestClassifier(n_estimators=100, random_state=42)\n",
    "rf.fit(X_train_resampled, y_train_resampled)"
   ]
  },
  {
   "cell_type": "code",
   "execution_count": 51,
   "id": "4c283b6d-f90b-4368-a443-6a397a2178a2",
   "metadata": {},
   "outputs": [
    {
     "name": "stdout",
     "output_type": "stream",
     "text": [
      "Accuracy: 0.67\n"
     ]
    }
   ],
   "source": [
    "# Оценка точности на тестовой выборке\n",
    "accuracy = rf.score(X_test_scaled, y_test)\n",
    "print(f'Accuracy: {accuracy:.2f}')"
   ]
  },
  {
   "cell_type": "code",
   "execution_count": 52,
   "id": "54b3b63c-2c84-48f6-bb8a-c6369a062697",
   "metadata": {},
   "outputs": [
    {
     "name": "stdout",
     "output_type": "stream",
     "text": [
      "Точность модели: 0.67\n",
      "              precision    recall  f1-score   support\n",
      "\n",
      "           0       0.61      0.65      0.63      3101\n",
      "           1       0.72      0.69      0.70      4114\n",
      "\n",
      "    accuracy                           0.67      7215\n",
      "   macro avg       0.66      0.67      0.66      7215\n",
      "weighted avg       0.67      0.67      0.67      7215\n",
      "\n"
     ]
    }
   ],
   "source": [
    "y_pred = rf.predict(X_test_scaled)\n",
    "\n",
    "# Оценка точности\n",
    "accuracy = accuracy_score(y_test, y_pred)\n",
    "print(f\"Точность модели: {accuracy:.2f}\")\n",
    "\n",
    "# Подробный отчет о классификации\n",
    "print(classification_report(y_test, y_pred))"
   ]
  },
  {
   "cell_type": "code",
   "execution_count": 53,
   "id": "4121d995-85fe-4d14-903d-6856d7f49597",
   "metadata": {},
   "outputs": [
    {
     "name": "stdout",
     "output_type": "stream",
     "text": [
      "  Feature  Importance\n",
      "1   close    0.180249\n",
      "2    high    0.179839\n",
      "3     low    0.178585\n",
      "0    open    0.177716\n",
      "4   value    0.142352\n",
      "5  volume    0.141260\n"
     ]
    }
   ],
   "source": [
    "# Получение значимости признаков\n",
    "feature_importances = rf.feature_importances_\n",
    "\n",
    "# Создание DataFrame для визуализации значимости признаков\n",
    "importance_df = pd.DataFrame({'Feature': X.columns, 'Importance': feature_importances})\n",
    "importance_df = importance_df.sort_values(by='Importance', ascending=False)\n",
    "\n",
    "print(importance_df)"
   ]
  },
  {
   "cell_type": "code",
   "execution_count": 54,
   "id": "c7f87aec-e514-4cd0-b0cc-f4c7ed566c55",
   "metadata": {},
   "outputs": [
    {
     "data": {
      "image/png": "[encoded data removed]",
      "text/plain": [
       "<Figure size 1000x400 with 1 Axes>"
      ]
     },
     "metadata": {},
     "output_type": "display_data"
    }
   ],
   "source": [
    "# Визуализация значимости признаков с помощью seaborn\n",
    "plt.figure(figsize=(10, 4))\n",
    "sns.barplot(x='Importance', y='Feature', data=importance_df)\n",
    "plt.title('Feature Importance from Random Forest')\n",
    "plt.show()"
   ]
  },
  {
   "cell_type": "markdown",
   "id": "3564788f-8a86-4506-b891-da0434b83bc3",
   "metadata": {},
   "source": [
    "#### Выводы:  \n",
    "* RandomForest убрал некоторую позитивность относительно роста инструментам по отношению к модели с Logistic Regression\n",
    "* Факторы стоимости инструмента (цены \"свечи\" на открытии, закрытии, максимум и минимум) более значимы по отношению к объёму и кол-ву продаж на часовом timeframe"
   ]
  },
  {
   "cell_type": "code",
   "execution_count": null,
   "id": "e4fc576d-a5f7-4bde-99bf-afacab3409dc",
   "metadata": {},
   "outputs": [],
   "source": []
  },
  {
   "cell_type": "markdown",
   "id": "7a82ec65-5b1a-4922-a088-471d8d80beed",
   "metadata": {},
   "source": [
    "#### Применим Бустинг метод - XGBoost"
   ]
  },
  {
   "cell_type": "code",
   "execution_count": 57,
   "id": "6ce2245c-a56d-437b-b1c2-9caf0b2eee95",
   "metadata": {},
   "outputs": [],
   "source": [
    "from xgboost import XGBClassifier"
   ]
  },
  {
   "cell_type": "code",
   "execution_count": 58,
   "id": "6626b8da-60b4-450f-9cd0-e0b9963aedc7",
   "metadata": {},
   "outputs": [
    {
     "data": {
      "text/html": [
       "<style>#sk-container-id-3 {color: black;background-color: white;}#sk-container-id-3 pre{padding: 0;}#sk-container-id-3 div.sk-toggleable {background-color: white;}#sk-container-id-3 label.sk-toggleable__label {cursor: pointer;display: block;width: 100%;margin-bottom: 0;padding: 0.3em;box-sizing: border-box;text-align: center;}#sk-container-id-3 label.sk-toggleable__label-arrow:before {content: \"▸\";float: left;margin-right: 0.25em;color: #696969;}#sk-container-id-3 label.sk-toggleable__label-arrow:hover:before {color: black;}#sk-container-id-3 div.sk-estimator:hover label.sk-toggleable__label-arrow:before {color: black;}#sk-container-id-3 div.sk-toggleable__content {max-height: 0;max-width: 0;overflow: hidden;text-align: left;background-color: #f0f8ff;}#sk-container-id-3 div.sk-toggleable__content pre {margin: 0.2em;color: black;border-radius: 0.25em;background-color: #f0f8ff;}#sk-container-id-3 input.sk-toggleable__control:checked~div.sk-toggleable__content {max-height: 200px;max-width: 100%;overflow: auto;}#sk-container-id-3 input.sk-toggleable__control:checked~label.sk-toggleable__label-arrow:before {content: \"▾\";}#sk-container-id-3 div.sk-estimator input.sk-toggleable__control:checked~label.sk-toggleable__label {background-color: #d4ebff;}#sk-container-id-3 div.sk-label input.sk-toggleable__control:checked~label.sk-toggleable__label {background-color: #d4ebff;}#sk-container-id-3 input.sk-hidden--visually {border: 0;clip: rect(1px 1px 1px 1px);clip: rect(1px, 1px, 1px, 1px);height: 1px;margin: -1px;overflow: hidden;padding: 0;position: absolute;width: 1px;}#sk-container-id-3 div.sk-estimator {font-family: monospace;background-color: #f0f8ff;border: 1px dotted black;border-radius: 0.25em;box-sizing: border-box;margin-bottom: 0.5em;}#sk-container-id-3 div.sk-estimator:hover {background-color: #d4ebff;}#sk-container-id-3 div.sk-parallel-item::after {content: \"\";width: 100%;border-bottom: 1px solid gray;flex-grow: 1;}#sk-container-id-3 div.sk-label:hover label.sk-toggleable__label {background-color: #d4ebff;}#sk-container-id-3 div.sk-serial::before {content: \"\";position: absolute;border-left: 1px solid gray;box-sizing: border-box;top: 0;bottom: 0;left: 50%;z-index: 0;}#sk-container-id-3 div.sk-serial {display: flex;flex-direction: column;align-items: center;background-color: white;padding-right: 0.2em;padding-left: 0.2em;position: relative;}#sk-container-id-3 div.sk-item {position: relative;z-index: 1;}#sk-container-id-3 div.sk-parallel {display: flex;align-items: stretch;justify-content: center;background-color: white;position: relative;}#sk-container-id-3 div.sk-item::before, #sk-container-id-3 div.sk-parallel-item::before {content: \"\";position: absolute;border-left: 1px solid gray;box-sizing: border-box;top: 0;bottom: 0;left: 50%;z-index: -1;}#sk-container-id-3 div.sk-parallel-item {display: flex;flex-direction: column;z-index: 1;position: relative;background-color: white;}#sk-container-id-3 div.sk-parallel-item:first-child::after {align-self: flex-end;width: 50%;}#sk-container-id-3 div.sk-parallel-item:last-child::after {align-self: flex-start;width: 50%;}#sk-container-id-3 div.sk-parallel-item:only-child::after {width: 0;}#sk-container-id-3 div.sk-dashed-wrapped {border: 1px dashed gray;margin: 0 0.4em 0.5em 0.4em;box-sizing: border-box;padding-bottom: 0.4em;background-color: white;}#sk-container-id-3 div.sk-label label {font-family: monospace;font-weight: bold;display: inline-block;line-height: 1.2em;}#sk-container-id-3 div.sk-label-container {text-align: center;}#sk-container-id-3 div.sk-container {/* jupyter's `normalize.less` sets `[hidden] { display: none; }` but bootstrap.min.css set `[hidden] { display: none !important; }` so we also need the `!important` here to be able to override the default hidden behavior on the sphinx rendered scikit-learn.org. See: https://github.com/scikit-learn/scikit-learn/issues/21755 */display: inline-block !important;position: relative;}#sk-container-id-3 div.sk-text-repr-fallback {display: none;}</style><div id=\"sk-container-id-3\" class=\"sk-top-container\"><div class=\"sk-text-repr-fallback\"><pre>XGBClassifier(base_score=None, booster=None, callbacks=None,\n",
       "              colsample_bylevel=None, colsample_bynode=None,\n",
       "              colsample_bytree=None, device=None, early_stopping_rounds=None,\n",
       "              enable_categorical=False, eval_metric=&#x27;mlogloss&#x27;,\n",
       "              feature_types=None, gamma=None, grow_policy=None,\n",
       "              importance_type=None, interaction_constraints=None,\n",
       "              learning_rate=None, max_bin=None, max_cat_threshold=None,\n",
       "              max_cat_to_onehot=None, max_delta_step=None, max_depth=None,\n",
       "              max_leaves=None, min_child_weight=None, missing=nan,\n",
       "              monotone_constraints=None, multi_strategy=None, n_estimators=None,\n",
       "              n_jobs=None, num_parallel_tree=None, random_state=None, ...)</pre><b>In a Jupyter environment, please rerun this cell to show the HTML representation or trust the notebook. <br />On GitHub, the HTML representation is unable to render, please try loading this page with nbviewer.org.</b></div><div class=\"sk-container\" hidden><div class=\"sk-item\"><div class=\"sk-estimator sk-toggleable\"><input class=\"sk-toggleable__control sk-hidden--visually\" id=\"sk-estimator-id-3\" type=\"checkbox\" checked><label for=\"sk-estimator-id-3\" class=\"sk-toggleable__label sk-toggleable__label-arrow\">XGBClassifier</label><div class=\"sk-toggleable__content\"><pre>XGBClassifier(base_score=None, booster=None, callbacks=None,\n",
       "              colsample_bylevel=None, colsample_bynode=None,\n",
       "              colsample_bytree=None, device=None, early_stopping_rounds=None,\n",
       "              enable_categorical=False, eval_metric=&#x27;mlogloss&#x27;,\n",
       "              feature_types=None, gamma=None, grow_policy=None,\n",
       "              importance_type=None, interaction_constraints=None,\n",
       "              learning_rate=None, max_bin=None, max_cat_threshold=None,\n",
       "              max_cat_to_onehot=None, max_delta_step=None, max_depth=None,\n",
       "              max_leaves=None, min_child_weight=None, missing=nan,\n",
       "              monotone_constraints=None, multi_strategy=None, n_estimators=None,\n",
       "              n_jobs=None, num_parallel_tree=None, random_state=None, ...)</pre></div></div></div></div></div>"
      ],
      "text/plain": [
       "XGBClassifier(base_score=None, booster=None, callbacks=None,\n",
       "              colsample_bylevel=None, colsample_bynode=None,\n",
       "              colsample_bytree=None, device=None, early_stopping_rounds=None,\n",
       "              enable_categorical=False, eval_metric='mlogloss',\n",
       "              feature_types=None, gamma=None, grow_policy=None,\n",
       "              importance_type=None, interaction_constraints=None,\n",
       "              learning_rate=None, max_bin=None, max_cat_threshold=None,\n",
       "              max_cat_to_onehot=None, max_delta_step=None, max_depth=None,\n",
       "              max_leaves=None, min_child_weight=None, missing=nan,\n",
       "              monotone_constraints=None, multi_strategy=None, n_estimators=None,\n",
       "              n_jobs=None, num_parallel_tree=None, random_state=None, ...)"
      ]
     },
     "execution_count": 58,
     "metadata": {},
     "output_type": "execute_result"
    }
   ],
   "source": [
    "# Инициализация и обучение модели XGBoost\n",
    "xgb = XGBClassifier(eval_metric='mlogloss')\n",
    "xgb.fit(X_train_resampled, y_train_resampled)"
   ]
  },
  {
   "cell_type": "code",
   "execution_count": 59,
   "id": "d4c78200-c45e-427c-ae39-d99fc1ffff30",
   "metadata": {},
   "outputs": [
    {
     "name": "stdout",
     "output_type": "stream",
     "text": [
      "Accuracy: 0.68\n",
      "              precision    recall  f1-score   support\n",
      "\n",
      "           0       0.62      0.66      0.64      3101\n",
      "           1       0.73      0.69      0.71      4114\n",
      "\n",
      "    accuracy                           0.68      7215\n",
      "   macro avg       0.67      0.68      0.67      7215\n",
      "weighted avg       0.68      0.68      0.68      7215\n",
      "\n"
     ]
    }
   ],
   "source": [
    "# Прогнозирование на тестовом наборе\n",
    "y_pred = xgb.predict(X_test_scaled)\n",
    "\n",
    "# Оценка точности модели\n",
    "accuracy = accuracy_score(y_test, y_pred)\n",
    "print(f'Accuracy: {accuracy:.2f}')\n",
    "\n",
    "# Подробный отчет о классификации\n",
    "print(classification_report(y_test, y_pred, zero_division = 0))"
   ]
  },
  {
   "cell_type": "code",
   "execution_count": 60,
   "id": "63e437e6-2a03-4511-be88-4bfd88db2be9",
   "metadata": {},
   "outputs": [
    {
     "name": "stdout",
     "output_type": "stream",
     "text": [
      "  Feature  Importance\n",
      "2    high    0.313870\n",
      "3     low    0.225380\n",
      "1   close    0.173165\n",
      "0    open    0.126760\n",
      "5  volume    0.081495\n",
      "4   value    0.079331\n"
     ]
    }
   ],
   "source": [
    "# Получение значимости признаков\n",
    "importance = xgb.feature_importances_\n",
    "\n",
    "# Создание DataFrame для визуализации значимости признаков\n",
    "importance_df = pd.DataFrame({'Feature': X.columns, 'Importance': importance})\n",
    "importance_df = importance_df.sort_values(by='Importance', ascending=False)\n",
    "\n",
    "print(importance_df)"
   ]
  },
  {
   "cell_type": "code",
   "execution_count": 61,
   "id": "500332d6-7f3d-4a14-9e74-bfc7e5d364ff",
   "metadata": {},
   "outputs": [
    {
     "data": {
      "image/png": "[encoded data removed]",
      "text/plain": [
       "<Figure size 1000x400 with 1 Axes>"
      ]
     },
     "metadata": {},
     "output_type": "display_data"
    }
   ],
   "source": [
    "# Визуализация значимости признаков с помощью seaborn\n",
    "plt.figure(figsize=(10, 4))\n",
    "sns.barplot(x='Importance', y='Feature', data=importance_df)\n",
    "plt.title('Feature Importance from XGBoost')\n",
    "plt.show()"
   ]
  },
  {
   "cell_type": "markdown",
   "id": "323dabe3-e47f-44c5-895c-5f4b7d51187e",
   "metadata": {},
   "source": [
    "#### Выводы:  \n",
    "* XGBoost показал почти такие же результаты как и RandomForest\n",
    "* Факторы стоимости инструмента (цены \"свечи\" на открытии, закрытии, максимум и минимум) также оказались более значимы по отношению к объёму и кол-ву продаж на часовом timeframe\n",
    "* Максимальная стоимость инструмента на часовом timeframe оказалась самой важной."
   ]
  },
  {
   "cell_type": "markdown",
   "id": "2e0079ca-685f-49c8-9bce-b357d1f25f05",
   "metadata": {},
   "source": [
    "### 4. Тестирование применения классических торговых индикаторов с оценкой результатов по отношению к baseline."
   ]
  },
  {
   "cell_type": "code",
   "execution_count": null,
   "id": "771350b9-8d51-4df8-9a26-716f63519f69",
   "metadata": {},
   "outputs": [],
   "source": []
  }
 ],
 "metadata": {
  "kernelspec": {
   "display_name": "Python 3 (ipykernel)",
   "language": "python",
   "name": "python3"
  },
  "language_info": {
   "codemirror_mode": {
    "name": "ipython",
    "version": 3
   },
   "file_extension": ".py",
   "mimetype": "text/x-python",
   "name": "python",
   "nbconvert_exporter": "python",
   "pygments_lexer": "ipython3",
   "version": "3.11.7"
  }
 },
 "nbformat": 4,
 "nbformat_minor": 5
}
